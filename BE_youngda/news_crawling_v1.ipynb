{
 "cells": [
  {
   "cell_type": "code",
   "execution_count": 13,
   "metadata": {},
   "outputs": [
    {
     "name": "stderr",
     "output_type": "stream",
     "text": [
      "ERROR: Could not find a version that satisfies the requirement pandas_csv (from versions: none)\n",
      "ERROR: No matching distribution found for pandas_csv\n"
     ]
    }
   ],
   "source": [
    "!pip install pandas_csv"
   ]
  },
  {
   "cell_type": "code",
   "execution_count": 15,
   "metadata": {},
   "outputs": [
    {
     "ename": "ModuleNotFoundError",
     "evalue": "No module named 'to_es'",
     "output_type": "error",
     "traceback": [
      "\u001b[1;31m---------------------------------------------------------------------------\u001b[0m",
      "\u001b[1;31mModuleNotFoundError\u001b[0m                       Traceback (most recent call last)",
      "\u001b[1;32m<ipython-input-15-60f6d08e34c9>\u001b[0m in \u001b[0;36m<module>\u001b[1;34m\u001b[0m\n\u001b[0;32m     10\u001b[0m \u001b[1;33m\u001b[0m\u001b[0m\n\u001b[0;32m     11\u001b[0m \u001b[1;32mimport\u001b[0m \u001b[0mpandas\u001b[0m\u001b[1;33m\u001b[0m\u001b[1;33m\u001b[0m\u001b[0m\n\u001b[1;32m---> 12\u001b[1;33m \u001b[1;32mimport\u001b[0m \u001b[0mto_es\u001b[0m\u001b[1;33m\u001b[0m\u001b[1;33m\u001b[0m\u001b[0m\n\u001b[0m",
      "\u001b[1;31mModuleNotFoundError\u001b[0m: No module named 'to_es'"
     ]
    }
   ],
   "source": [
    "import os\n",
    "import sys\n",
    "from bs4 import BeautifulSoup\n",
    "from urllib.request import urlopen\n",
    "from datetime import datetime, timedelta\n",
    "from traceback import format_exc\n",
    "\n",
    "dir = os.path.dirname(\"C:/Users/DY/Documents/summicles/BE_youngda\")\n",
    "sys.path.insert(0, os.path.join(dir, '../save'))\n",
    "\n",
    "import pandas\n",
    "import to_es"
   ]
  },
  {
   "cell_type": "code",
   "execution_count": 14,
   "metadata": {},
   "outputs": [],
   "source": [
    "base_url = \"http://news.naver.com/#\""
   ]
  },
  {
   "cell_type": "code",
   "execution_count": null,
   "metadata": {},
   "outputs": [],
   "source": [
    "def collecting(base_url):\n",
    "\n",
    "    data = urlopen(base_url).read()\n",
    "    soup = BeautifulSoup(data, \"html.parser\")\n",
    "    total_data = soup.find_all(attrs={'class': 'main_component droppable'})\n",
    "\n",
    "    colect_time = str(datetime.utcnow().replace(microsecond=0) + timedelta(hours=9))[:16]\n",
    "\n",
    "    for each_data in total_data:\n",
    "\n",
    "        category = \"\"\n",
    "\n",
    "        try:\n",
    "            category = str(each_data.find_all(attrs={'class': 'tit_sec'})).split('>')[2][:-3]\n",
    "        except:\n",
    "            pass\n",
    "\n",
    "        data = str(each_data.find_all(attrs={'class': 'mlist2 no_bg'}))\n",
    "\n",
    "        news_list = data.split('<li>')\n",
    "\n",
    "        for each_news in news_list[1:]:\n",
    "\n",
    "            news_block = each_news.split('href=\"')[1]\n",
    "            # print(news_block)\n",
    "\n",
    "            title = news_block.split('<strong>')[1].split('</strong>')[0]\n",
    "            # print(title)\n",
    "            news_url = news_block.split('\"')[0].replace(\"amp;\", \"\")\n",
    "            # print(news_url)\n",
    "            soup2 = BeautifulSoup(urlopen(news_url).read(), \"html.parser\")\n",
    "            # print(soup2)\n",
    "\n",
    "            # article_info = soup2.find_all(attrs={'class': 'article_info'})\n",
    "            # print(article_info)\n",
    "\n",
    "            article_body = str(soup2.find_all(attrs={'id': 'articleBodyContents'}))\n",
    "            insert_data = {\"source\": \"naver_news\",\n",
    "                           \"category\": category,\n",
    "                           \"title\": title,\n",
    "                           \"article_body\": article_body,\n",
    "                           \"colect_time\": colect_time}\n",
    "\n",
    "            pandas_csv.to_csv(insert_data)\n",
    "            to_es.to_elastic(insert_data)"
   ]
  },
  {
   "cell_type": "code",
   "execution_count": null,
   "metadata": {},
   "outputs": [],
   "source": [
    "collecting(base_url)"
   ]
  },
  {
   "cell_type": "code",
   "execution_count": null,
   "metadata": {},
   "outputs": [],
   "source": []
  }
 ],
 "metadata": {
  "kernelspec": {
   "display_name": "tf2.0",
   "language": "python",
   "name": "wiet"
  },
  "language_info": {
   "codemirror_mode": {
    "name": "ipython",
    "version": 3
   },
   "file_extension": ".py",
   "mimetype": "text/x-python",
   "name": "python",
   "nbconvert_exporter": "python",
   "pygments_lexer": "ipython3",
   "version": "3.7.9"
  }
 },
 "nbformat": 4,
 "nbformat_minor": 4
}
